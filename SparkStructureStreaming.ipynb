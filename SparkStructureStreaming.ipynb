{
 "cells": [
  {
   "cell_type": "markdown",
   "metadata": {
    "application/vnd.databricks.v1+cell": {
     "cellMetadata": {},
     "inputWidgets": {},
     "nuid": "99ce4a50-ae2f-498e-9a31-8b018a6f78ef",
     "showTitle": false,
     "tableResultSettingsMap": {},
     "title": ""
    }
   },
   "source": [
    "Spark Structure Streaming..."
   ]
  },
  {
   "cell_type": "code",
   "execution_count": 0,
   "metadata": {
    "application/vnd.databricks.v1+cell": {
     "cellMetadata": {
      "byteLimit": 2048000,
      "rowLimit": 10000
     },
     "inputWidgets": {},
     "nuid": "0c970599-a2e8-45d6-a73a-87e519419df0",
     "showTitle": false,
     "tableResultSettingsMap": {},
     "title": ""
    }
   },
   "outputs": [],
   "source": [
    "from pyspark.sql.functions import *"
   ]
  },
  {
   "cell_type": "code",
   "execution_count": 0,
   "metadata": {
    "application/vnd.databricks.v1+cell": {
     "cellMetadata": {
      "byteLimit": 2048000,
      "rowLimit": 10000
     },
     "inputWidgets": {},
     "nuid": "f6513d0e-3200-4d52-bc69-473873bb57da",
     "showTitle": false,
     "tableResultSettingsMap": {},
     "title": ""
    }
   },
   "outputs": [],
   "source": [
    "df = spark.read.format(\"json\")\\\n",
    "    .option(\"inferSchema\", \"true\")\\\n",
    "    .option(\"multiLine\", \"true\")\\\n",
    "    .load(\"/Volumes/strom/streamingdata/vol_streamingdata/jsonsource/day1.json\")\n",
    "df.display()"
   ]
  },
  {
   "cell_type": "code",
   "execution_count": 0,
   "metadata": {
    "application/vnd.databricks.v1+cell": {
     "cellMetadata": {
      "byteLimit": 2048000,
      "rowLimit": 10000
     },
     "inputWidgets": {},
     "nuid": "c50e1b28-7fc0-4e55-aee0-baaf6469b5a6",
     "showTitle": false,
     "tableResultSettingsMap": {},
     "title": ""
    }
   },
   "outputs": [],
   "source": [
    "df.printSchema()"
   ]
  },
  {
   "cell_type": "code",
   "execution_count": 0,
   "metadata": {
    "application/vnd.databricks.v1+cell": {
     "cellMetadata": {
      "byteLimit": 2048000,
      "rowLimit": 10000
     },
     "inputWidgets": {},
     "nuid": "c1aee460-cd45-4f0c-9cd8-a42e4a2dae8b",
     "showTitle": false,
     "tableResultSettingsMap": {
      "0": {
       "dataGridStateBlob": "{\"version\":1,\"tableState\":{\"columnPinning\":{\"left\":[\"#row_number#\"],\"right\":[]},\"columnSizing\":{},\"columnVisibility\":{}},\"settings\":{\"columns\":{}},\"syncTimestamp\":1753680939737}",
       "filterBlob": null,
       "queryPlanFiltersBlob": null,
       "tableResultIndex": 0
      }
     },
     "title": ""
    }
   },
   "outputs": [],
   "source": [
    "df.withColumn(\"order_id\", col(\"order_id\"))\\\n",
    "    .withColumn(\"timestamp\", col(\"timestamp\"))\\\n",
    "        .withColumn(\"customer_id\", col(\"customer.customer_id\"))\\\n",
    "            .withColumn(\"customer_name\", col(\"customer.name\"))\\\n",
    "                .withColumn(\"customer_email\", col(\"customer.email\"))\\\n",
    "                    .withColumn(\"customer_address_city\", col(\"customer.address.city\"))\\\n",
    "                        .withColumn(\"customer_address_postal_code\", col(\"customer.address.postal_code\"))\\\n",
    "                            .withColumn(\"customer_address_country\", col(\"customer.address.country\"))\\\n",
    "                                .withColumn(\"payment_method\", col(\"payment.method\"))\\\n",
    "                                    .withColumn(\"payment_transaction_id\", col(\"payment.transaction_id\"))\\\n",
    "                                        .withColumn(\"Items\",explode_outer(col(\"items\")))\\\n",
    "                                            .withColumn(\"item_id\", col(\"Items.item_id\"))\\\n",
    "                                                .withColumn(\"item_name\", col(\"Items.product_name\"))\\\n",
    "                                                    .withColumn(\"item_quantity\", col(\"Items.quantity\"))\\\n",
    "                                                        .withColumn(\"item_price\", col(\"Items.price\"))\\\n",
    "                                                            .drop(\"customer\", \"items\", \"payment\",\"metadata\")\\\n",
    "                                                                .display()"
   ]
  }
 ],
 "metadata": {
  "application/vnd.databricks.v1+notebook": {
   "computePreferences": null,
   "dashboards": [],
   "environmentMetadata": {
    "base_environment": "",
    "environment_version": "2"
   },
   "inputWidgetPreferences": null,
   "language": "python",
   "notebookMetadata": {
    "mostRecentlyExecutedCommandWithImplicitDF": {
     "commandId": 8285560064306472,
     "dataframes": [
      "_sqldf"
     ]
    },
    "pythonIndentUnit": 4
   },
   "notebookName": "SparkStructureStreaming",
   "widgets": {}
  },
  "language_info": {
   "name": "python"
  }
 },
 "nbformat": 4,
 "nbformat_minor": 0
}
