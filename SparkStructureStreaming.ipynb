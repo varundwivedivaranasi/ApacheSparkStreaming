{
 "cells": [
  {
   "cell_type": "markdown",
   "metadata": {
    "application/vnd.databricks.v1+cell": {
     "cellMetadata": {
      "byteLimit": 2048000,
      "rowLimit": 10000
     },
     "inputWidgets": {},
     "nuid": "99ce4a50-ae2f-498e-9a31-8b018a6f78ef",
     "showTitle": false,
     "tableResultSettingsMap": {},
     "title": ""
    }
   },
   "source": [
    "Spark Structure Streaming..."
   ]
  },
  {
   "cell_type": "code",
   "execution_count": 0,
   "metadata": {
    "application/vnd.databricks.v1+cell": {
     "cellMetadata": {
      "byteLimit": 2048000,
      "rowLimit": 10000
     },
     "inputWidgets": {},
     "nuid": "0c970599-a2e8-45d6-a73a-87e519419df0",
     "showTitle": false,
     "tableResultSettingsMap": {},
     "title": ""
    }
   },
   "outputs": [],
   "source": [
    "from pyspark.sql.functions import *\n",
    "from pyspark.sql.types import *"
   ]
  },
  {
   "cell_type": "code",
   "execution_count": 0,
   "metadata": {
    "application/vnd.databricks.v1+cell": {
     "cellMetadata": {
      "byteLimit": 2048000,
      "rowLimit": 10000
     },
     "inputWidgets": {},
     "nuid": "bdd9323f-11b9-43f8-8f90-4816838868c3",
     "showTitle": false,
     "tableResultSettingsMap": {},
     "title": ""
    }
   },
   "outputs": [],
   "source": [
    "json_schema = StructType([\n",
    "    StructField(\"order_id\", StringType(), True),\n",
    "    StructField(\"timestamp\", StringType(), True),  # You can convert to TimestampType if needed\n",
    "    StructField(\"customer\", StructType([\n",
    "        StructField(\"customer_id\", IntegerType(), True),\n",
    "        StructField(\"name\", StringType(), True),\n",
    "        StructField(\"email\", StringType(), True),\n",
    "        StructField(\"address\", StructType([\n",
    "            StructField(\"city\", StringType(), True),\n",
    "            StructField(\"postal_code\", StringType(), True),\n",
    "            StructField(\"country\", StringType(), True)\n",
    "        ]))\n",
    "    ])),\n",
    "    StructField(\"items\", ArrayType(StructType([\n",
    "        StructField(\"item_id\", StringType(), True),\n",
    "        StructField(\"product_name\", StringType(), True),\n",
    "        StructField(\"quantity\", IntegerType(), True),\n",
    "        StructField(\"price\", DoubleType(), True)\n",
    "    ]))),\n",
    "    StructField(\"payment\", StructType([\n",
    "        StructField(\"method\", StringType(), True),\n",
    "        StructField(\"transaction_id\", StringType(), True)\n",
    "    ])),\n",
    "    StructField(\"metadata\", ArrayType(StructType([\n",
    "        StructField(\"key\", StringType(), True),\n",
    "        StructField(\"value\", StringType(), True)\n",
    "    ])))\n",
    "])"
   ]
  },
  {
   "cell_type": "code",
   "execution_count": 0,
   "metadata": {
    "application/vnd.databricks.v1+cell": {
     "cellMetadata": {
      "byteLimit": 2048000,
      "rowLimit": 10000
     },
     "inputWidgets": {},
     "nuid": "502f16fc-c33c-4549-bf48-cd0019e19c2c",
     "showTitle": false,
     "tableResultSettingsMap": {},
     "title": ""
    }
   },
   "outputs": [],
   "source": [
    "#spark.conf.set(\"spark.sql.streaming.schemaInference\", \"true\")  ---- This is not working in serverless cluster\n",
    "df_source = spark.readStream.format(\"json\")\\\n",
    "    .schema(json_schema)\\\n",
    "    .option(\"multiLine\", \"true\")\\\n",
    "    .load(\"/Volumes/strom/streamingdata/vol_streamingdata/jsonsource/\")"
   ]
  },
  {
   "cell_type": "code",
   "execution_count": 0,
   "metadata": {
    "application/vnd.databricks.v1+cell": {
     "cellMetadata": {
      "byteLimit": 2048000,
      "rowLimit": 10000
     },
     "inputWidgets": {},
     "nuid": "c1aee460-cd45-4f0c-9cd8-a42e4a2dae8b",
     "showTitle": false,
     "tableResultSettingsMap": {},
     "title": ""
    }
   },
   "outputs": [],
   "source": [
    "df_sink = df_source.withColumn(\"order_id\", col(\"order_id\"))\\\n",
    "    .withColumn(\"timestamp\", col(\"timestamp\"))\\\n",
    "        .withColumn(\"customer_id\", col(\"customer.customer_id\"))\\\n",
    "            .withColumn(\"customer_name\", col(\"customer.name\"))\\\n",
    "                .withColumn(\"customer_email\", col(\"customer.email\"))\\\n",
    "                    .withColumn(\"customer_address_city\", col(\"customer.address.city\"))\\\n",
    "                        .withColumn(\"customer_address_postal_code\", col(\"customer.address.postal_code\"))\\\n",
    "                            .withColumn(\"customer_address_country\", col(\"customer.address.country\"))\\\n",
    "                                .withColumn(\"payment_method\", col(\"payment.method\"))\\\n",
    "                                    .withColumn(\"payment_transaction_id\", col(\"payment.transaction_id\"))\\\n",
    "                                        .withColumn(\"Items\",explode_outer(col(\"items\")))\\\n",
    "                                            .withColumn(\"item_id\", col(\"Items.item_id\"))\\\n",
    "                                                .withColumn(\"item_name\", col(\"Items.product_name\"))\\\n",
    "                                                    .withColumn(\"item_quantity\", col(\"Items.quantity\"))\\\n",
    "                                                        .withColumn(\"item_price\", col(\"Items.price\"))\\\n",
    "                                                            .withColumn(\"metadata\",explode_outer(col(\"metadata\")))\\\n",
    "                                                                .withColumn(\"metadata_key\", col(\"metadata.key\"))\\\n",
    "                                                                    .withColumn(\"metadata_value\", col(\"metadata.value\"))\\\n",
    "                                                                        .drop(\"customer\", \"items\", \"payment\",\"metadata\")"
   ]
  },
  {
   "cell_type": "code",
   "execution_count": 0,
   "metadata": {
    "application/vnd.databricks.v1+cell": {
     "cellMetadata": {
      "byteLimit": 2048000,
      "rowLimit": 10000
     },
     "inputWidgets": {},
     "nuid": "d888469e-fb3f-4ac4-b0a6-4187b3a33d29",
     "showTitle": false,
     "tableResultSettingsMap": {},
     "title": ""
    }
   },
   "outputs": [],
   "source": [
    "df_sink.display()"
   ]
  },
  {
   "cell_type": "code",
   "execution_count": 0,
   "metadata": {
    "application/vnd.databricks.v1+cell": {
     "cellMetadata": {
      "byteLimit": 2048000,
      "rowLimit": 10000
     },
     "inputWidgets": {},
     "nuid": "2f8bb269-eff9-4a4c-9b1f-4cbf3254515c",
     "showTitle": false,
     "tableResultSettingsMap": {},
     "title": ""
    }
   },
   "outputs": [],
   "source": [
    "df_sink.writeStream.format(\"delta\")\\\n",
    ".outputMode(\"append\")\\\n",
    ".trigger(once=True)\\\n",
    ".option(\"path\",\"/Volumes/strom/streamingdata/vol_streamingdata/jsonsink/data\")\\\n",
    ".option(\"checkpointLocation\", \"/Volumes/strom/streamingdata/vol_streamingdata/jsonsink/checkpoint\")\\\n",
    ".start()"
   ]
  },
  {
   "cell_type": "code",
   "execution_count": 0,
   "metadata": {
    "application/vnd.databricks.v1+cell": {
     "cellMetadata": {
      "byteLimit": 2048000,
      "rowLimit": 10000
     },
     "inputWidgets": {},
     "nuid": "d6d5caa5-9631-4e57-b236-09c4817c13c3",
     "showTitle": false,
     "tableResultSettingsMap": {
      "0": {
       "dataGridStateBlob": "{\"version\":1,\"tableState\":{\"columnPinning\":{\"left\":[\"#row_number#\"],\"right\":[]},\"columnSizing\":{},\"columnVisibility\":{}},\"settings\":{\"columns\":{}},\"syncTimestamp\":1753685236538}",
       "filterBlob": null,
       "queryPlanFiltersBlob": null,
       "tableResultIndex": 0
      }
     },
     "title": ""
    }
   },
   "outputs": [],
   "source": [
    "df_check = spark.read.format(\"delta\")\\\n",
    "    .option(\"inferSchema\", \"true\")\\\n",
    "    .load(\"/Volumes/strom/streamingdata/vol_streamingdata/jsonsink/data/\")\n",
    "df_check.display()"
   ]
  }
 ],
 "metadata": {
  "application/vnd.databricks.v1+notebook": {
   "computePreferences": null,
   "dashboards": [],
   "environmentMetadata": {
    "base_environment": "",
    "environment_version": "2"
   },
   "inputWidgetPreferences": null,
   "language": "python",
   "notebookMetadata": {
    "mostRecentlyExecutedCommandWithImplicitDF": {
     "commandId": 8285560064306472,
     "dataframes": [
      "_sqldf"
     ]
    },
    "pythonIndentUnit": 4
   },
   "notebookName": "SparkStructureStreaming",
   "widgets": {}
  },
  "language_info": {
   "name": "python"
  }
 },
 "nbformat": 4,
 "nbformat_minor": 0
}
